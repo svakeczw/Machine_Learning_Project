{
 "cells": [
  {
   "cell_type": "code",
   "execution_count": 30,
   "metadata": {
    "collapsed": true
   },
   "outputs": [],
   "source": [
    "import pandas as pd\n",
    "import numpy as np\n",
    "from sklearn.model_selection import train_test_split\n",
    "from sklearn.preprocessing import LabelEncoder\n",
    "import matplotlib.pyplot as plt"
   ]
  },
  {
   "cell_type": "code",
   "execution_count": 31,
   "metadata": {
    "pycharm": {
     "name": "#%%\n"
    }
   },
   "outputs": [],
   "source": [
    "# import dataset\n",
    "data = pd.read_csv('/Users/zhangweichen/OneDrive - UTS/Machine_Learning_Project/Project_without_framework/Logistic_Regression/mushrooms.csv')\n",
    "\n",
    "# data preprocess\n",
    "def map_value(dataset):\n",
    "    encoder = LabelEncoder()\n",
    "    for col in data.columns:\n",
    "        data[col]=encoder.fit_transform(data[col])\n",
    "    return dataset\n",
    "\n",
    "data_new = map_value(data)\n",
    "simple_x=data_new.iloc[:,1:23].values\n",
    "simple_y=data_new[['class']].values\n",
    "simple_x = np.concatenate((np.ones((simple_x.shape[0],1)),simple_x),axis=1)\n",
    "theta_init = np.zeros([simple_x.shape[1],1])\n",
    "simple_x_train, simple_x_valid, simple_y_train, simple_y_valid = train_test_split(simple_x, simple_y)\n",
    "sample_size = simple_x_train.shape[0]"
   ]
  },
  {
   "cell_type": "code",
   "execution_count": 32,
   "metadata": {
    "pycharm": {
     "name": "#%%\n"
    }
   },
   "outputs": [],
   "source": [
    "# build model\n",
    "class LogisticRegressionModel:\n",
    "    def __init__(self,theta):\n",
    "        self.final_theta = np.zeros([theta.shape[0],1])\n",
    "        self.final_cost = None\n",
    "\n",
    "    def sigmoid(self,z):\n",
    "        \"\"\"sigmoid function\"\"\"\n",
    "        return 1 / (1 + np.exp(-z))\n",
    "\n",
    "    def model(self,x,theta):\n",
    "        \"\"\"activate by sigmoid function\"\"\"\n",
    "        s1 = np.dot(x,theta)\n",
    "        s = self.sigmoid(s1)\n",
    "        return s\n",
    "\n",
    "    def cost(self,x, y, theta, m):\n",
    "        \"\"\"cost function\"\"\"\n",
    "        a = np.multiply(-y, np.log(self.model(x, theta)))\n",
    "        b = np.multiply(1 - y, np.log(1 - self.model(x, theta)))\n",
    "        s = np.sum(a - b) / m\n",
    "        return s\n",
    "\n",
    "    def gradient(self,x,y,theta):\n",
    "        \"\"\"calculate grad\"\"\"\n",
    "        grad = -(x.T.dot(y-self.model(x,theta)))\n",
    "        return grad\n",
    "\n",
    "    def descent(self,x,y,n,m,alpha,theta):\n",
    "        \"\"\"gradient decent\"\"\"\n",
    "        i = 0\n",
    "        costs = [self.cost(x,y,theta,m)]\n",
    "        while True:\n",
    "            grad = self.gradient(x,y,theta)\n",
    "            theta = theta - (alpha/m) * grad\n",
    "            costs.append(self.cost(x,y,theta,m))\n",
    "            i += 1\n",
    "            if i >= n:\n",
    "                self.final_theta = theta\n",
    "                self.final_cost = costs\n",
    "                break\n",
    "        plt.plot(range(0,len(costs)),costs)\n",
    "        plt.show() # plot cost\n",
    "        return\n",
    "\n",
    "    def predict(self,x,theta):\n",
    "        \"\"\"predict\"\"\"\n",
    "        p = self.model(x,theta)\n",
    "        for i in range(len(p)):\n",
    "\n",
    "            if p[i] >= 0.5:\n",
    "                p[i] = 1\n",
    "            else:\n",
    "                p[i] = 0\n",
    "        return p\n"
   ]
  },
  {
   "cell_type": "code",
   "execution_count": 33,
   "metadata": {
    "pycharm": {
     "name": "#%%\n"
    }
   },
   "outputs": [
    {
     "data": {
      "image/png": "[encoded data removed]",
      "text/plain": [
       "<Figure size 432x288 with 1 Axes>"
      ]
     },
     "metadata": {
      "needs_background": "light"
     },
     "output_type": "display_data"
    }
   ],
   "source": [
    "# training\n",
    "myModel = LogisticRegressionModel(theta_init)\n",
    "myModel.descent(simple_x_train,simple_y_train,10000,sample_size,0.03,theta_init)\n",
    "theta_final = myModel.final_theta"
   ]
  },
  {
   "cell_type": "code",
   "execution_count": 34,
   "metadata": {
    "pycharm": {
     "name": "#%%\n"
    }
   },
   "outputs": [
    {
     "name": "stdout",
     "output_type": "stream",
     "text": [
      "[[0.]\n",
      " [1.]\n",
      " [0.]\n",
      " ...\n",
      " [0.]\n",
      " [1.]\n",
      " [0.]]\n",
      "[[0]\n",
      " [1]\n",
      " [0]\n",
      " ...\n",
      " [0]\n",
      " [1]\n",
      " [0]]\n",
      "0.9394387001477105\n"
     ]
    }
   ],
   "source": [
    "# predict\n",
    "predicted = myModel.predict(simple_x_valid,theta_final)\n",
    "print(predicted)\n",
    "print(simple_y_valid)\n",
    "valid_corr_num = (predicted== simple_y_valid).sum()\n",
    "accuracy = valid_corr_num/len(simple_y_valid)\n",
    "print(accuracy)\n"
   ]
  }
 ],
 "metadata": {
  "kernelspec": {
   "display_name": "Python 3",
   "language": "python",
   "name": "python3"
  },
  "language_info": {
   "codemirror_mode": {
    "name": "ipython",
    "version": 3
   },
   "file_extension": ".py",
   "mimetype": "text/x-python",
   "name": "python",
   "nbconvert_exporter": "python",
   "pygments_lexer": "ipython3",
   "version": "3.8.2"
  }
 },
 "nbformat": 4,
 "nbformat_minor": 1
}